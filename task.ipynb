{
 "cells": [
  {
   "cell_type": "code",
   "execution_count": 6,
   "metadata": {
    "collapsed": true
   },
   "outputs": [],
   "source": [
    "from celery.task import task\n",
    "from celery import Celery\n",
    "from celery.schedules import crontab\n",
    "\n",
    "app = Celery()\n",
    "\n",
    "@app.on_after_configure.connect\n",
    "def setup_periodic_tasks(sender, **kwargs):\n",
    "    # Calls test('hello') every 10 seconds.\n",
    "    sender.add_periodic_task(10.0, test.s('hello'), name='add every 10')\n",
    "\n",
    "    # Calls test('world') every 30 seconds\n",
    "    sender.add_periodic_task(30.0, test.s('world'), expires=10)\n",
    "\n",
    "    # Executes every Monday morning at 7:30 a.m.\n",
    "    sender.add_periodic_task(\n",
    "        crontab(hour=7, minute=30, day_of_week=1),\n",
    "        test.s('Happy Mondays!'),\n",
    "    )\n",
    "\n",
    "@app.task\n",
    "def test(arg):\n",
    "    print(arg)"
   ]
  },
  {
   "cell_type": "code",
   "execution_count": null,
   "metadata": {
    "collapsed": true
   },
   "outputs": [],
   "source": []
  }
 ],
 "metadata": {
  "kernelspec": {
   "display_name": "Python 3",
   "language": "python",
   "name": "python3"
  },
  "language_info": {
   "codemirror_mode": {
    "name": "ipython",
    "version": 3
   },
   "file_extension": ".py",
   "mimetype": "text/x-python",
   "name": "python",
   "nbconvert_exporter": "python",
   "pygments_lexer": "ipython3",
   "version": "3.6.1"
  }
 },
 "nbformat": 4,
 "nbformat_minor": 2
}
