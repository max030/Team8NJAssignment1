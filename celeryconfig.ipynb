{
 "cells": [
  {
   "cell_type": "code",
   "execution_count": 5,
   "metadata": {},
   "outputs": [],
   "source": [
    "\n",
    "#broker Rabbit for tasks\n",
    "\n",
    "\n",
    "CELERY_IMPORTS = ('tasks')\n",
    "\n",
    "CELERY_IGNORE_RESULT= False\n",
    "BROKER_HOST = '127.0.0.1'\n",
    "#setup the rabbit port\n",
    "BROKER_HOST = 5672\n",
    "#setup the broker url\n",
    "BROKER_URL = 'amqp://'\n",
    "\n",
    "from datetime import timedelta\n",
    "\n",
    "# we are calling a docter in every 10sec and assigning it a task to do\n",
    "\n",
    "\n",
    "CELERYBEAT_SCHEDULE = {\n",
    "    \n",
    "    'docker-every-10-seconds': {\n",
    "        'task': 'tasks.fav_doctor',\n",
    "          #setup the dockter schedule\n",
    "        'schedule':timedelta(seconds=10),\n",
    "    },\n",
    "    \n",
    "}"
   ]
  },
  {
   "cell_type": "code",
   "execution_count": null,
   "metadata": {
    "collapsed": true
   },
   "outputs": [],
   "source": []
  }
 ],
 "metadata": {
  "kernelspec": {
   "display_name": "Python 3",
   "language": "python",
   "name": "python3"
  },
  "language_info": {
   "codemirror_mode": {
    "name": "ipython",
    "version": 3
   },
   "file_extension": ".py",
   "mimetype": "text/x-python",
   "name": "python",
   "nbconvert_exporter": "python",
   "pygments_lexer": "ipython3",
   "version": "3.6.1"
  }
 },
 "nbformat": 4,
 "nbformat_minor": 2
}
