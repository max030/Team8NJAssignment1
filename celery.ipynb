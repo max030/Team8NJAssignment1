{
 "cells": [
  {
   "cell_type": "code",
   "execution_count": 1,
   "metadata": {
    "collapsed": true
   },
   "outputs": [],
   "source": [
    "from celery import Celery\n",
    "#celery = Celery()\n",
    "\n",
    "#config  the rabbitMQ\n",
    "app = Celery('tasks' , broker = 'ampq://localhost//')\n",
    "\n",
    "\n",
    "#Create a task like reversing a string\n",
    "@app.task\n",
    "def reverse(string):\n",
    "    return string[:: -1]\n",
    "\n",
    "\n",
    "\n",
    "#Config from object and pass in the celeryconfig file\n",
    "\n",
    "#celery.config_from_object('celeryconfig')\n",
    "\n"
   ]
  },
  {
   "cell_type": "code",
   "execution_count": null,
   "metadata": {
    "collapsed": true
   },
   "outputs": [],
   "source": []
  }
 ],
 "metadata": {
  "kernelspec": {
   "display_name": "Python 3",
   "language": "python",
   "name": "python3"
  },
  "language_info": {
   "codemirror_mode": {
    "name": "ipython",
    "version": 3
   },
   "file_extension": ".py",
   "mimetype": "text/x-python",
   "name": "python",
   "nbconvert_exporter": "python",
   "pygments_lexer": "ipython3",
   "version": "3.6.1"
  }
 },
 "nbformat": 4,
 "nbformat_minor": 2
}
